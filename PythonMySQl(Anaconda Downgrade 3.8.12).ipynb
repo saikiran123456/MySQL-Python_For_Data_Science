{
 "cells": [
  {
   "cell_type": "markdown",
   "id": "3bed33a3",
   "metadata": {},
   "source": [
    "## To Connect MySQL with Python"
   ]
  },
  {
   "cell_type": "markdown",
   "id": "34ff2ef1",
   "metadata": {},
   "source": [
    "### >Install MySQl connector with help of PIP\n",
    "### ->The we have establish the connection with database\n",
    "### ->Problem statement by implementing different SQL statement"
   ]
  },
  {
   "cell_type": "code",
   "execution_count": 3,
   "id": "2c4a508a",
   "metadata": {},
   "outputs": [
    {
     "name": "stdout",
     "output_type": "stream",
     "text": [
      "Collecting mysql\n",
      "  Using cached mysql-0.0.3-py3-none-any.whl (1.2 kB)\n",
      "Collecting mysqlclient\n",
      "  Downloading mysqlclient-2.1.0-cp38-cp38-win_amd64.whl (180 kB)\n",
      "Installing collected packages: mysqlclient, mysql\n",
      "Successfully installed mysql-0.0.3 mysqlclient-2.1.0\n"
     ]
    }
   ],
   "source": [
    "!pip install mysql"
   ]
  },
  {
   "cell_type": "code",
   "execution_count": 4,
   "id": "e0498832",
   "metadata": {},
   "outputs": [
    {
     "name": "stdout",
     "output_type": "stream",
     "text": [
      "Collecting mysql-connector-python\n",
      "  Downloading mysql_connector_python-8.0.29-cp38-cp38-win_amd64.whl (7.7 MB)\n",
      "Collecting protobuf>=3.0.0\n",
      "  Downloading protobuf-4.21.1-cp38-cp38-win_amd64.whl (524 kB)\n",
      "Installing collected packages: protobuf, mysql-connector-python\n",
      "Successfully installed mysql-connector-python-8.0.29 protobuf-4.21.1\n"
     ]
    }
   ],
   "source": [
    "!pip install mysql-connector-python"
   ]
  },
  {
   "cell_type": "markdown",
   "id": "6271a19c",
   "metadata": {},
   "source": [
    "## Connect with MySQL"
   ]
  },
  {
   "cell_type": "code",
   "execution_count": 7,
   "id": "8b52a2e3",
   "metadata": {},
   "outputs": [
    {
     "name": "stdout",
     "output_type": "stream",
     "text": [
      "<mysql.connector.connection_cext.CMySQLConnection object at 0x0000018D04140DF0>\n"
     ]
    }
   ],
   "source": [
    "#import mysqlconnectoronnector library\n",
    "import mysql\n",
    "import mysql.connector\n",
    "# from mysql import connector\n",
    "\n",
    "#you need to call this fn to connect to mysql and store this in variable called mydb\n",
    "# import mysql.connector as sql_db \n",
    "    \n",
    "mydb = mysql.connector.connect( \n",
    "    host = \"127.0.0.1\",\n",
    "    user=\"root\",    \n",
    "    passwd=\"Sid@9619\"\n",
    ")\n",
    "# mycursor = mydb.cursor()\n",
    "print(mydb)"
   ]
  },
  {
   "cell_type": "code",
   "execution_count": 35,
   "id": "5a14becd",
   "metadata": {},
   "outputs": [],
   "source": [
    "## Go to MySQl\n",
    "# open the Python connection \n",
    "# and create db name:  create database sq;"
   ]
  },
  {
   "cell_type": "code",
   "execution_count": 13,
   "id": "514b7029",
   "metadata": {},
   "outputs": [],
   "source": [
    "## This database: testing is already created in MySQl(ForPython user) and we are Connecting Here!\n",
    "# var mysql = require(\"mysql\");\n",
    "\n",
    "# // First you need to create a connection to the db\n",
    "import mysql.connector\n",
    "\n",
    "mydb = mysql.connector.connect(\n",
    "  host = \"127.0.0.1\",\n",
    "  user = \"root\",\n",
    "  passwd = \"Sid@9619\",\n",
    "  database ='testing'\n",
    ");\n",
    "connector.connect();\n",
    "\n",
    "# var articles = {\n",
    "\n",
    "# }"
   ]
  },
  {
   "cell_type": "markdown",
   "id": "08d60cd7",
   "metadata": {},
   "source": [
    "## Create a Database"
   ]
  },
  {
   "cell_type": "code",
   "execution_count": 72,
   "id": "d0a1e410",
   "metadata": {},
   "outputs": [],
   "source": [
    "import mysql.connector\n",
    "\n",
    "mydb = mysql.connector.connect(host = \"127.0.0.1\", user=\"root\", password=\"Sid@9619\")\n",
    "cursor = mydb.cursor()\n",
    "cursor.execute('create database sports1')\n"
   ]
  },
  {
   "cell_type": "raw",
   "id": "f1370f3c",
   "metadata": {},
   "source": [
    "-- DDL - Data Definition Language \n",
    "-- DML - Data Manipulation Language\n",
    "-- DQL - Data Query Language\n",
    "-- DCL - Data Control Language\n",
    "-- TCL - Transaction Control Language\n",
    "\n",
    "/*\n",
    "Data Definition Language\n",
    "\n",
    "1. Creating any object, Altering any object, Dropping any object, \n",
    "Trucating the data, Single line Commenting, Multiline Commenting\n",
    "\n",
    "DDL commands - CREATE, ALTER, DROP, TRUNCATE\n",
    "\n",
    "Data Manipulation Language\n",
    "\n",
    "1. Inserting data into a table, Updating data in a table, Deleting data from the table\n",
    "\n",
    "DML commands - INSERT, UPDATE, DELETE\n",
    "\n",
    "Data Query Language\n",
    "\n",
    "1. Querying the data from tables\n",
    "\n",
    "DQL command - SELECT\n",
    "*/"
   ]
  },
  {
   "cell_type": "markdown",
   "id": "49c68c01",
   "metadata": {},
   "source": [
    "## Creating a Table inside sports schema"
   ]
  },
  {
   "cell_type": "code",
   "execution_count": 14,
   "id": "c0d1a948",
   "metadata": {},
   "outputs": [],
   "source": [
    "# MyCursor (Why do we need cursor in MySQL) Cursor helps to establish connection with MySQL db\n",
    "# Its just like an object, It will help you go with all the databases, command providing for execution, Insertion\n",
    "# Basically its connector which is used to execute the satement, to communicate with MySQL database\n",
    "\n",
    "mycursor = mydb.cursor()\n",
    "\n",
    "mycursor.execute(\"CREATE TABLE customers (name VARCHAR(255), address VARCHAR(255))\")  #.execute =>"
   ]
  },
  {
   "cell_type": "code",
   "execution_count": 15,
   "id": "032a5b50",
   "metadata": {},
   "outputs": [
    {
     "name": "stdout",
     "output_type": "stream",
     "text": [
      "CMySQLCursor: SHOW TABLES\n",
      "('customers',)\n"
     ]
    }
   ],
   "source": [
    "#To show the above created tables\n",
    "mycursor = mydb.cursor()\n",
    "\n",
    "mycursor.execute(\"SHOW TABLES\")  #.execute =>\n",
    "print(mycursor)\n",
    "\n",
    "#To see what all the tables you have\n",
    "for x in mycursor:\n",
    "    print(x)"
   ]
  },
  {
   "cell_type": "markdown",
   "id": "810317e2",
   "metadata": {},
   "source": [
    "## ALTER table to ADD new column in existing table"
   ]
  },
  {
   "cell_type": "code",
   "execution_count": 16,
   "id": "7392aad9",
   "metadata": {},
   "outputs": [],
   "source": [
    "## ALTER\n",
    "mycursor.execute(\"ALTER TABLE customers ADD COLUMN id INT AUTO_INCREMENT PRIMARY KEY\")\n"
   ]
  },
  {
   "cell_type": "markdown",
   "id": "228389a3",
   "metadata": {},
   "source": [
    "## INSERT values in the table:-"
   ]
  },
  {
   "cell_type": "code",
   "execution_count": 17,
   "id": "7b80c5db",
   "metadata": {},
   "outputs": [
    {
     "name": "stdout",
     "output_type": "stream",
     "text": [
      "1 record inserted.\n"
     ]
    }
   ],
   "source": [
    "## Insert Values to the customers table\n",
    "\n",
    "sql = \"INSERT INTO customers (name, address) VALUES (%s, %s)\"\n",
    "val = (\"John\", \"Highway 21\")\n",
    "mycursor.execute(sql, val)\n",
    "       \n",
    "mydb.commit()               #.commit() :to insert data in db\n",
    "       \n",
    "print(mycursor.rowcount, \"record inserted.\")"
   ]
  },
  {
   "cell_type": "markdown",
   "id": "7b37ab30",
   "metadata": {},
   "source": [
    "### To insert multiple values at once:-"
   ]
  },
  {
   "cell_type": "code",
   "execution_count": 18,
   "id": "b8c826ad",
   "metadata": {},
   "outputs": [
    {
     "name": "stdout",
     "output_type": "stream",
     "text": [
      "13 was inserted.\n"
     ]
    }
   ],
   "source": [
    "# To insert multiple values\n",
    "sql = \"INSERT INTO customers (name, address) VALUES (%s, %s)\"\n",
    "val = [\n",
    "    (\"Peter\", \"Lowstreet 4\"),\n",
    "    (\"Amy\", \"Apple st 652\"),                                                                                                                                                                                                                                                                                                                                                                                                                                                                                                                                                                                                                                   \n",
    "    (\"Hannah\", \"Mountain 21\"),\n",
    "    (\"Michael\", \"Valley 345\"),\n",
    "    (\"Sandy\", \"Ocean blvd 2 \"),\n",
    "    (\"Betty\", \"Green Grass 1\"),\n",
    "    (\"Richard\", \"Sky st 331\"),\n",
    "    (\"Susan\", \"One way 98\"),\n",
    "    (\"Vicky\", \"Yellow Garden 2\"),\n",
    "    (\"Ben\", \"Park Lane 38\"),\n",
    "    (\"William\", \"Central st 954\"),\n",
    "    (\"Chuck\", \"Main Road 989\"),\n",
    "    (\"Viola\", \"Sideway 1633\")\n",
    "]\n",
    "\n",
    "mycursor.executemany(sql, val)  #.executemany: whenever we have lot of data we use this function\n",
    "\n",
    "mydb.commit()  #.commit() function allows you to preform multiple queries at once\n",
    "\n",
    "print(mycursor.rowcount, \"was inserted.\")"
   ]
  },
  {
   "cell_type": "markdown",
   "id": "65f602ad",
   "metadata": {},
   "source": [
    "### DQL : Select statement to see the Data"
   ]
  },
  {
   "cell_type": "code",
   "execution_count": 19,
   "id": "8b6aa6a5",
   "metadata": {},
   "outputs": [
    {
     "name": "stdout",
     "output_type": "stream",
     "text": [
      "('John', 'Highway 21', 1)\n",
      "('Peter', 'Lowstreet 4', 2)\n",
      "('Amy', 'Apple st 652', 3)\n",
      "('Hannah', 'Mountain 21', 4)\n",
      "('Michael', 'Valley 345', 5)\n",
      "('Sandy', 'Ocean blvd 2 ', 6)\n",
      "('Betty', 'Green Grass 1', 7)\n",
      "('Richard', 'Sky st 331', 8)\n",
      "('Susan', 'One way 98', 9)\n",
      "('Vicky', 'Yellow Garden 2', 10)\n",
      "('Ben', 'Park Lane 38', 11)\n",
      "('William', 'Central st 954', 12)\n",
      "('Chuck', 'Main Road 989', 13)\n",
      "('Viola', 'Sideway 1633', 14)\n"
     ]
    }
   ],
   "source": [
    "# To see the Data in customers column\n",
    "mycursor.execute(\"SELECT * FROM customers\")\n",
    "\n",
    "myresult = mycursor.fetchall()\n",
    "\n",
    "for x in myresult:\n",
    "    print(x)"
   ]
  },
  {
   "cell_type": "code",
   "execution_count": 20,
   "id": "854d250b",
   "metadata": {},
   "outputs": [
    {
     "name": "stdout",
     "output_type": "stream",
     "text": [
      "(14,)\n"
     ]
    }
   ],
   "source": [
    "# To see the number of data in customers column\n",
    "mycursor.execute(\"SELECT count(*) FROM customers\")\n",
    "\n",
    "myresult = mycursor.fetchall()\n",
    "\n",
    "for x in myresult:\n",
    "    print(x)"
   ]
  },
  {
   "cell_type": "markdown",
   "id": "e24c7f67",
   "metadata": {},
   "source": [
    "### Where conditon:"
   ]
  },
  {
   "cell_type": "code",
   "execution_count": 21,
   "id": "5b6506b5",
   "metadata": {},
   "outputs": [
    {
     "name": "stdout",
     "output_type": "stream",
     "text": [
      "('Ben', 'Park Lane 38', 11)\n"
     ]
    }
   ],
   "source": [
    "# Where conditon\n",
    "mycursor = mydb.cursor()\n",
    "\n",
    "sql = \"SELECT * FROM customers WHERE address = 'Park Lane 38'\"\n",
    "\n",
    "mycursor.execute(sql)\n",
    "\n",
    "myresult = mycursor.fetchall()\n",
    "\n",
    "#To see what all the tables you have\n",
    "for x in myresult:\n",
    "    print(x)"
   ]
  },
  {
   "cell_type": "code",
   "execution_count": 22,
   "id": "b1c4ac53",
   "metadata": {},
   "outputs": [
    {
     "name": "stdout",
     "output_type": "stream",
     "text": [
      "('John', 'Highway 21', 1)\n",
      "('Susan', 'One way 98', 9)\n",
      "('Viola', 'Sideway 1633', 14)\n"
     ]
    }
   ],
   "source": [
    "# Where Condition to check if the values consist of \"way\" in any\n",
    "#\"LIKE\" keyword: (To check pattern matching)\n",
    "mycursor = mydb.cursor()\n",
    "\n",
    "sql = \"SELECT * FROM customers WHERE address LIKE '%way%'\"\n",
    "\n",
    "mycursor.execute(sql)\n",
    "\n",
    "myresult = mycursor.fetchall()\n",
    "\n",
    "#To see what all the tables you have\n",
    "for x in myresult:\n",
    "    print(x)"
   ]
  },
  {
   "cell_type": "markdown",
   "id": "0ce16bdb",
   "metadata": {},
   "source": [
    "### ORDER by: In ASC / DESC"
   ]
  },
  {
   "cell_type": "code",
   "execution_count": 23,
   "id": "e7361b54",
   "metadata": {},
   "outputs": [
    {
     "name": "stdout",
     "output_type": "stream",
     "text": [
      "('Amy', 'Apple st 652', 3)\n",
      "('Ben', 'Park Lane 38', 11)\n",
      "('Betty', 'Green Grass 1', 7)\n",
      "('Chuck', 'Main Road 989', 13)\n",
      "('Hannah', 'Mountain 21', 4)\n",
      "('John', 'Highway 21', 1)\n",
      "('Michael', 'Valley 345', 5)\n",
      "('Peter', 'Lowstreet 4', 2)\n",
      "('Richard', 'Sky st 331', 8)\n",
      "('Sandy', 'Ocean blvd 2 ', 6)\n",
      "('Susan', 'One way 98', 9)\n",
      "('Vicky', 'Yellow Garden 2', 10)\n",
      "('Viola', 'Sideway 1633', 14)\n",
      "('William', 'Central st 954', 12)\n"
     ]
    }
   ],
   "source": [
    "# ORDER By: It will give data in Ascending / Descending order , you can specify which column you want\n",
    "mycursor = mydb.cursor()\n",
    "\n",
    "sql = \"SELECT * FROM customers ORDER BY name\"\n",
    "\n",
    "mycursor.execute(sql)\n",
    "\n",
    "myresult = mycursor.fetchall()\n",
    "\n",
    "for x in myresult:\n",
    "    print(x)"
   ]
  },
  {
   "cell_type": "code",
   "execution_count": 25,
   "id": "639cd34f",
   "metadata": {},
   "outputs": [
    {
     "name": "stdout",
     "output_type": "stream",
     "text": [
      "('William', 'Central st 954', 12)\n",
      "('Viola', 'Sideway 1633', 14)\n",
      "('Vicky', 'Yellow Garden 2', 10)\n",
      "('Susan', 'One way 98', 9)\n",
      "('Sandy', 'Ocean blvd 2 ', 6)\n",
      "('Richard', 'Sky st 331', 8)\n",
      "('Peter', 'Lowstreet 4', 2)\n",
      "('Michael', 'Valley 345', 5)\n",
      "('John', 'Highway 21', 1)\n",
      "('Hannah', 'Mountain 21', 4)\n",
      "('Chuck', 'Main Road 989', 13)\n",
      "('Betty', 'Green Grass 1', 7)\n",
      "('Ben', 'Park Lane 38', 11)\n",
      "('Amy', 'Apple st 652', 3)\n"
     ]
    }
   ],
   "source": [
    "# Order by : in Descending order\n",
    "mycursor = mydb.cursor()\n",
    "\n",
    "sql = \"SELECT * FROM customers ORDER BY name DESC\"\n",
    "\n",
    "mycursor.execute(sql)\n",
    "\n",
    "myresult = mycursor.fetchall()\n",
    "\n",
    "for x in myresult:\n",
    "    print(x)"
   ]
  },
  {
   "cell_type": "code",
   "execution_count": null,
   "id": "04b694dd",
   "metadata": {},
   "outputs": [],
   "source": []
  },
  {
   "cell_type": "code",
   "execution_count": null,
   "id": "cae1cf9f",
   "metadata": {},
   "outputs": [],
   "source": []
  },
  {
   "cell_type": "markdown",
   "id": "0b306efe",
   "metadata": {},
   "source": [
    "## SQL Statements"
   ]
  },
  {
   "cell_type": "code",
   "execution_count": 26,
   "id": "5a37a91f",
   "metadata": {},
   "outputs": [],
   "source": [
    "import mysql.connector\n",
    "my_database = mysql.connector.connect(host='127.0.0.1', user='root', password=\"Sid@9619\")\n",
    "cursor = my_database.cursor()\n",
    "cursor.execute(\"create database sports\") #It will create database name: \"sports\""
   ]
  },
  {
   "cell_type": "code",
   "execution_count": 27,
   "id": "e5c038ce",
   "metadata": {},
   "outputs": [
    {
     "name": "stdout",
     "output_type": "stream",
     "text": [
      "('information_schema',)\n",
      "('mysql',)\n",
      "('performance_schema',)\n",
      "('sakila',)\n",
      "('sports',)\n",
      "('sys',)\n",
      "('testing',)\n",
      "('world',)\n"
     ]
    }
   ],
   "source": [
    "my_database = mysql.connector.connect(host='127.0.0.1', user='root', password=\"Sid@9619\")\n",
    "cursor = my_database.cursor()\n",
    "cursor.execute(\"show databases\")  #It will Show the Databases\n",
    "\n",
    "for i in cursor:\n",
    "    print(i)"
   ]
  },
  {
   "cell_type": "code",
   "execution_count": 28,
   "id": "a2e13c56",
   "metadata": {},
   "outputs": [],
   "source": [
    "## To create tables,  Here we need to Select the Database \"sports\" first\n",
    "my_database = mysql.connector.connect(host='127.0.0.1', user='root', password=\"Sid@9619\", database=\"sports\")\n",
    "cursor = my_database.cursor()\n",
    "cursor.execute(\"create table player(name varchar(20), jersey_no int, age int, score int)\")\n"
   ]
  },
  {
   "cell_type": "code",
   "execution_count": 30,
   "id": "91c5b6a2",
   "metadata": {},
   "outputs": [
    {
     "name": "stdout",
     "output_type": "stream",
     "text": [
      "('player',)\n"
     ]
    }
   ],
   "source": [
    "# To view the tables created!\n",
    "my_database = mysql.connector.connect(host='127.0.0.1', user='root', password=\"Sid@9619\", database=\"sports\")\n",
    "cursor = my_database.cursor()\n",
    "cursor.execute(\"show tables\")\n",
    "\n",
    "for i in cursor:\n",
    "    print(i)\n"
   ]
  },
  {
   "cell_type": "code",
   "execution_count": 31,
   "id": "84fb34a7",
   "metadata": {},
   "outputs": [],
   "source": [
    "## Check in MySQL Workbench\n",
    "# use sports;\n",
    "# show tables;\n",
    "# select * from player;"
   ]
  },
  {
   "cell_type": "code",
   "execution_count": null,
   "id": "36bc394e",
   "metadata": {},
   "outputs": [],
   "source": [
    "# We have table player created above and now we will insert values inside each column and COMMIT the changes"
   ]
  },
  {
   "cell_type": "code",
   "execution_count": 33,
   "id": "54fa8471",
   "metadata": {},
   "outputs": [],
   "source": [
    "# Now create\n",
    "my_database = mysql.connector.connect(host='127.0.0.1', user='root', password=\"Sid@9619\", database=\"sports\")\n",
    "cursor = my_database.cursor()\n",
    "\n",
    "sql = \"insert into player(name, jersey_no, age, score)values(%s, %s, %s, %s)\"\n",
    "player1 = ('sachin', 10,32,100)\n",
    "cursor.execute(sql,player1)\n",
    "my_database.commit()  #You need to use this \"COMMIT\" function inorder to update in the Database very IMP\n"
   ]
  },
  {
   "cell_type": "code",
   "execution_count": 34,
   "id": "589ed2b7",
   "metadata": {},
   "outputs": [],
   "source": [
    "## If we want to insert Multiple Values:\n",
    "\n",
    "my_database = mysql.connector.connect(host='127.0.0.1', user='root', password=\"Sid@9619\", database=\"sports\")\n",
    "cursor = my_database.cursor()\n",
    "\n",
    "sql = \"insert into player(name, jersey_no, age, score)values(%s, %s, %s, %s)\"\n",
    "# Here we will create a List instead: []\n",
    "player1 = [('lara', 11,33,101), ('pointing', 12,34,102), ('yuvraj', 13,34,151), ('dhoni', 7,35,151), ('kholi', 1,26,190)]\n",
    "cursor.executemany(sql,player1)  #Note here we need to write .executemany\n",
    "my_database.commit()  #You need to use this \"COMMIT\" function inorder to update in the Database very IMP\n",
    "\n",
    "#See in MySQL"
   ]
  },
  {
   "cell_type": "code",
   "execution_count": 35,
   "id": "372a506d",
   "metadata": {},
   "outputs": [
    {
     "data": {
      "text/plain": [
       "[('sachin', 10, 32, 100),\n",
       " ('lara', 11, 33, 101),\n",
       " ('pointing', 12, 34, 102),\n",
       " ('yuvraj', 13, 34, 151),\n",
       " ('dhoni', 7, 35, 151),\n",
       " ('kholi', 1, 26, 190)]"
      ]
     },
     "execution_count": 35,
     "metadata": {},
     "output_type": "execute_result"
    }
   ],
   "source": [
    "# to see here\n",
    "my_database = mysql.connector.connect(host='127.0.0.1', user='root', password=\"Sid@9619\", database=\"sports\")\n",
    "cursor = my_database.cursor()\n",
    "\n",
    "cursor.execute(\"select * from player\")\n",
    "cursor.fetchall()"
   ]
  },
  {
   "cell_type": "code",
   "execution_count": 36,
   "id": "6d5cb029",
   "metadata": {},
   "outputs": [
    {
     "data": {
      "text/plain": [
       "('sachin', 10, 32, 100)"
      ]
     },
     "execution_count": 36,
     "metadata": {},
     "output_type": "execute_result"
    }
   ],
   "source": [
    "## If you want to fetch one recore\n",
    "my_database = mysql.connector.connect(host='127.0.0.1', user='root', password=\"Sid@9619\", database=\"sports\")\n",
    "cursor = my_database.cursor()\n",
    "cursor.execute(\"select * from player\")\n",
    "cursor.fetchone()"
   ]
  },
  {
   "cell_type": "code",
   "execution_count": null,
   "id": "c82a2b42",
   "metadata": {},
   "outputs": [],
   "source": []
  },
  {
   "cell_type": "code",
   "execution_count": null,
   "id": "a1435f58",
   "metadata": {},
   "outputs": [],
   "source": []
  },
  {
   "cell_type": "code",
   "execution_count": null,
   "id": "5ae0d4c2",
   "metadata": {},
   "outputs": [],
   "source": []
  },
  {
   "cell_type": "markdown",
   "id": "f60b0b9c",
   "metadata": {},
   "source": [
    "## DML: UPDATE,  DELETE,  DROP  records"
   ]
  },
  {
   "cell_type": "code",
   "execution_count": null,
   "id": "0b4ee5a2",
   "metadata": {},
   "outputs": [],
   "source": [
    "## If you get any error like : DatabaseError: 1205 (HY000): Lock wait timeout exceeded; try restarting transaction\n",
    "\n",
    "# Go to Commang line client -> login with password -> Type: SHOW PROCESSLIST;\n",
    "## and See the Process running with the db you have created\n",
    "##-> You need to kill those: type:  kill processID;"
   ]
  },
  {
   "cell_type": "markdown",
   "id": "39cb35a4",
   "metadata": {},
   "source": [
    "## UPDATE"
   ]
  },
  {
   "cell_type": "code",
   "execution_count": 45,
   "id": "3d895e3a",
   "metadata": {},
   "outputs": [],
   "source": [
    "## Update lara age to 46\n",
    "my_database = mysql.connector.connect(host='127.0.0.1', user='root', password=\"Sid@9619\", database=\"sports\")\n",
    "cursor = my_database.cursor()\n",
    "\n",
    "sql = \"update player set age=46 where name='lara'\"\n",
    "\n",
    "cursor.execute(sql)\n",
    "my_database.commit()\n",
    "\n",
    "# Check in MySQL"
   ]
  },
  {
   "cell_type": "code",
   "execution_count": 47,
   "id": "43f05208",
   "metadata": {},
   "outputs": [
    {
     "data": {
      "text/plain": [
       "[('sachin', 10, 32, 100),\n",
       " ('lara', 11, 46, 101),\n",
       " ('pointing', 12, 34, 102),\n",
       " ('yuvraj', 13, 34, 151),\n",
       " ('dhoni', 7, 35, 151),\n",
       " ('kholi', 1, 26, 190)]"
      ]
     },
     "execution_count": 47,
     "metadata": {},
     "output_type": "execute_result"
    }
   ],
   "source": [
    "cursor.execute(\"select * from player\")\n",
    "cursor.fetchall()"
   ]
  },
  {
   "cell_type": "code",
   "execution_count": 52,
   "id": "934642b7",
   "metadata": {},
   "outputs": [],
   "source": [
    "## Updating dhoni name to sehwag using age of dhoni which is 35\n",
    "my_database = mysql.connector.connect(host='127.0.0.1', user='root', password=\"Sid@9619\", database=\"sports\")\n",
    "cursor = my_database.cursor()\n",
    "\n",
    "sql = \"update player set name='sehwag' where age=35\"\n",
    "\n",
    "cursor.execute(sql)\n",
    "my_database.commit()"
   ]
  },
  {
   "cell_type": "code",
   "execution_count": 53,
   "id": "9ca9fbe5",
   "metadata": {},
   "outputs": [
    {
     "data": {
      "text/plain": [
       "[('sachin', 10, 32, 100),\n",
       " ('lara', 11, 46, 101),\n",
       " ('pointing', 12, 34, 102),\n",
       " ('yuvraj', 13, 34, 151),\n",
       " ('sehwag', 7, 35, 151),\n",
       " ('kholi', 1, 26, 190)]"
      ]
     },
     "execution_count": 53,
     "metadata": {},
     "output_type": "execute_result"
    }
   ],
   "source": [
    "cursor.execute(\"select * from player\")\n",
    "cursor.fetchall()"
   ]
  },
  {
   "cell_type": "code",
   "execution_count": 54,
   "id": "98b7e3af",
   "metadata": {},
   "outputs": [
    {
     "name": "stdout",
     "output_type": "stream",
     "text": [
      "('sachin', 10, 32, 100)\n",
      "('lara', 11, 46, 101)\n",
      "('pointing', 12, 34, 102)\n",
      "('yuvraj', 13, 34, 151)\n",
      "('sehwag', 7, 35, 151)\n"
     ]
    }
   ],
   "source": [
    "## Seting a LIMIT, Like if you want only display first 5 records\n",
    "sql = \"select * from player limit 5\"\n",
    "cursor.execute(sql)\n",
    "\n",
    "for i in cursor:\n",
    "    print(i)"
   ]
  },
  {
   "cell_type": "code",
   "execution_count": 55,
   "id": "ce171b1a",
   "metadata": {},
   "outputs": [
    {
     "name": "stdout",
     "output_type": "stream",
     "text": [
      "('lara', 11, 46, 101)\n",
      "('pointing', 12, 34, 102)\n",
      "('yuvraj', 13, 34, 151)\n",
      "('sehwag', 7, 35, 151)\n",
      "('kholi', 1, 26, 190)\n"
     ]
    }
   ],
   "source": [
    "#3 If we want to display records from lara\n",
    "sql = \"select * from player limit 5 offset 1\"\n",
    "cursor.execute(sql)\n",
    "\n",
    "for i in cursor:\n",
    "    print(i)  "
   ]
  },
  {
   "cell_type": "markdown",
   "id": "f827480a",
   "metadata": {},
   "source": [
    "## DELETE Statement"
   ]
  },
  {
   "cell_type": "code",
   "execution_count": 56,
   "id": "cbcc8be1",
   "metadata": {},
   "outputs": [],
   "source": [
    "## Delete yuvraj record\n",
    "my_database = mysql.connector.connect(host='127.0.0.1', user='root', password=\"Sid@9619\", database=\"sports\")\n",
    "cursor = my_database.cursor()\n",
    "\n",
    "sql = \"delete from player where age=34\"\n",
    "cursor.execute(sql)\n",
    "my_database.commit()"
   ]
  },
  {
   "cell_type": "code",
   "execution_count": 57,
   "id": "6f91c985",
   "metadata": {},
   "outputs": [
    {
     "data": {
      "text/plain": [
       "[('sachin', 10, 32, 100),\n",
       " ('lara', 11, 46, 101),\n",
       " ('sehwag', 7, 35, 151),\n",
       " ('kholi', 1, 26, 190)]"
      ]
     },
     "execution_count": 57,
     "metadata": {},
     "output_type": "execute_result"
    }
   ],
   "source": [
    "cursor.execute(\"select * from player\")\n",
    "cursor.fetchall()"
   ]
  },
  {
   "cell_type": "code",
   "execution_count": 58,
   "id": "9a83a553",
   "metadata": {},
   "outputs": [
    {
     "data": {
      "text/plain": [
       "[('lara', 11, 46, 101), ('sehwag', 7, 35, 151), ('kholi', 1, 26, 190)]"
      ]
     },
     "execution_count": 58,
     "metadata": {},
     "output_type": "execute_result"
    }
   ],
   "source": [
    "## Deleting wrt score\n",
    "my_database = mysql.connector.connect(host='127.0.0.1', user='root', password=\"Sid@9619\", database=\"sports\")\n",
    "cursor = my_database.cursor()\n",
    "\n",
    "sql = \"delete from player where score=100\"\n",
    "cursor.execute(sql)\n",
    "my_database.commit()\n",
    "\n",
    "cursor.execute(\"select * from player\")\n",
    "cursor.fetchall()"
   ]
  },
  {
   "cell_type": "markdown",
   "id": "dfd0d925",
   "metadata": {},
   "source": [
    "## DROP statement"
   ]
  },
  {
   "cell_type": "code",
   "execution_count": 59,
   "id": "4363c277",
   "metadata": {},
   "outputs": [],
   "source": [
    "## All the records from the table will be deleted along with the Schema\n",
    "sql = \"drop table player\"\n",
    "cursor.execute(sql)\n",
    "my_database.commit()\n"
   ]
  },
  {
   "cell_type": "code",
   "execution_count": 61,
   "id": "e2b51e00",
   "metadata": {},
   "outputs": [],
   "source": [
    "# cursor.execute(\"select * from player\")\n",
    "# cursor.fetchall()"
   ]
  },
  {
   "cell_type": "code",
   "execution_count": null,
   "id": "03f94a19",
   "metadata": {},
   "outputs": [],
   "source": []
  },
  {
   "cell_type": "markdown",
   "id": "512e21c4",
   "metadata": {},
   "source": [
    "### Recap\n",
    "\\\n",
    "/\n",
    "We have started understanding how to create a connection with MySQL\n",
    "### >Install MySQl connector with help of PIP\n",
    "### ->The we have establish the connection with database\n",
    "### ->Problem statement by implementing different SQL statement"
   ]
  },
  {
   "cell_type": "code",
   "execution_count": null,
   "id": "8a7c8cf7",
   "metadata": {},
   "outputs": [],
   "source": []
  }
 ],
 "metadata": {
  "kernelspec": {
   "display_name": "Python 3 (ipykernel)",
   "language": "python",
   "name": "python3"
  },
  "language_info": {
   "codemirror_mode": {
    "name": "ipython",
    "version": 3
   },
   "file_extension": ".py",
   "mimetype": "text/x-python",
   "name": "python",
   "nbconvert_exporter": "python",
   "pygments_lexer": "ipython3",
   "version": "3.8.12"
  }
 },
 "nbformat": 4,
 "nbformat_minor": 5
}
